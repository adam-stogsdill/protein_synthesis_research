{
 "cells": [
  {
   "cell_type": "code",
   "execution_count": 1,
   "metadata": {},
   "outputs": [],
   "source": [
    "from Bio.PDB import PDBParser"
   ]
  },
  {
   "cell_type": "code",
   "execution_count": 3,
   "metadata": {},
   "outputs": [
    {
     "name": "stderr",
     "output_type": "stream",
     "text": [
      "c:\\Users\\Windows\\.conda\\envs\\pytorch_env\\Lib\\site-packages\\Bio\\PDB\\StructureBuilder.py:100: PDBConstructionWarning: WARNING: Chain A is discontinuous at line 18772.\n",
      "  warnings.warn(\n"
     ]
    }
   ],
   "source": [
    "# Initialize the PDB parser\n",
    "parser = PDBParser()\n",
    "\n",
    "# Load the structure from the PDB file\n",
    "structure = parser.get_structure('8z0f', file='./data/8z0f.pdb')"
   ]
  },
  {
   "cell_type": "markdown",
   "metadata": {},
   "source": [
    "#### Information about Biopython Structure\n",
    "* *Model*: A structure can have multiple models (though most have just one)\n",
    "* *Chain*: Each model contains one or more chains (A, B, C, etc.)\n",
    "* *Residue*: Chains are composed of amino acid residues\n",
    "* *Atom*: Each residue has multiple atoms"
   ]
  },
  {
   "cell_type": "code",
   "execution_count": 6,
   "metadata": {},
   "outputs": [
    {
     "name": "stdout",
     "output_type": "stream",
     "text": [
      "Number of models: 1\n"
     ]
    }
   ],
   "source": [
    "print(\"Number of models:\", len(structure))"
   ]
  },
  {
   "cell_type": "code",
   "execution_count": 37,
   "metadata": {},
   "outputs": [],
   "source": [
    "# Lets check to see if the N, CA, and C backbones are really avaiable for each residue?\n",
    "from dataclasses import dataclass\n",
    "import numpy as np\n",
    "\n",
    "class Backbone:\n",
    "   \n",
    "    \n",
    "    def __init__(self):\n",
    "        self.N: np.ndarray = np.zeros(3)\n",
    "        self.CA: np.ndarray = np.zeros(3)\n",
    "        self.C: np.ndarray = np.zeros(3)"
   ]
  },
  {
   "cell_type": "code",
   "execution_count": 44,
   "metadata": {},
   "outputs": [],
   "source": [
    "# Lets iterate over the model\n",
    "model = structure[0]\n",
    "residue_dict = dict()\n",
    "\n",
    "# Iterate over chains\n",
    "for chain in model:\n",
    "    # Iterate over residues\n",
    "    for residue in chain:\n",
    "        # Lets first get the residue information\n",
    "        residue_id = residue.get_id()\n",
    "        residue_name = residue.get_resname()\n",
    "        \n",
    "        # Now lets iterate over each atom and get their locations\n",
    "        \n",
    "        for atom in residue:\n",
    "            # Get atom information (name, coordinates)\n",
    "            atom_name = atom.get_name()\n",
    "            atom_coord = atom.get_coord()\n",
    "            \n",
    "            #print(f\"Residue: {residue_name} {residue_id}, Atom: {atom_name}, Coordinates: {atom_coord}\")\n",
    "            if residue_name not in residue_dict:\n",
    "                residue_dict[residue_name] = Backbone()\n",
    "                \n",
    "            if atom_name == 'N':\n",
    "                residue_dict[residue_name].N = atom_coord\n",
    "            elif atom_name == 'CA':\n",
    "                residue_dict[residue_name].CA = atom_coord\n",
    "            elif atom_name == 'C':\n",
    "                residue_dict[residue_name].C = atom_coord"
   ]
  },
  {
   "cell_type": "code",
   "execution_count": 47,
   "metadata": {},
   "outputs": [
    {
     "name": "stdout",
     "output_type": "stream",
     "text": [
      "All residues have a backbone!!!!\n"
     ]
    }
   ],
   "source": [
    "for residue_name in residue_dict:\n",
    "    assert residue_dict[residue_name].N is not None\n",
    "    assert residue_dict[residue_name].CA is not None\n",
    "    assert residue_dict[residue_name].C is not None\n",
    "print('All residues have a backbone!!!!')"
   ]
  },
  {
   "cell_type": "code",
   "execution_count": null,
   "metadata": {},
   "outputs": [],
   "source": []
  }
 ],
 "metadata": {
  "kernelspec": {
   "display_name": "pytorch_env",
   "language": "python",
   "name": "python3"
  },
  "language_info": {
   "codemirror_mode": {
    "name": "ipython",
    "version": 3
   },
   "file_extension": ".py",
   "mimetype": "text/x-python",
   "name": "python",
   "nbconvert_exporter": "python",
   "pygments_lexer": "ipython3",
   "version": "3.11.7"
  }
 },
 "nbformat": 4,
 "nbformat_minor": 2
}
