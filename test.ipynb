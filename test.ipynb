{
 "cells": [
  {
   "cell_type": "code",
   "execution_count": 46,
   "metadata": {},
   "outputs": [],
   "source": [
    "import torch\n",
    "import processing.tokenization\n",
    "import processing.parse_pdb\n",
    "import pandas as pd\n",
    "import matplotlib.pyplot as plt\n",
    "import transformers\n",
    "from tqdm import tqdm"
   ]
  },
  {
   "cell_type": "code",
   "execution_count": 47,
   "metadata": {},
   "outputs": [
    {
     "data": {
      "text/html": [
       "<div>\n",
       "<style scoped>\n",
       "    .dataframe tbody tr th:only-of-type {\n",
       "        vertical-align: middle;\n",
       "    }\n",
       "\n",
       "    .dataframe tbody tr th {\n",
       "        vertical-align: top;\n",
       "    }\n",
       "\n",
       "    .dataframe thead th {\n",
       "        text-align: right;\n",
       "    }\n",
       "</style>\n",
       "<table border=\"1\" class=\"dataframe\">\n",
       "  <thead>\n",
       "    <tr style=\"text-align: right;\">\n",
       "      <th></th>\n",
       "      <th>Name</th>\n",
       "      <th>Sequence</th>\n",
       "      <th>MolType</th>\n",
       "      <th>length</th>\n",
       "    </tr>\n",
       "  </thead>\n",
       "  <tbody>\n",
       "    <tr>\n",
       "      <th>0</th>\n",
       "      <td></td>\n",
       "      <td>GPLGSMALRACGLIIFRRCLIPKVDNNAIEFLLLQASDGIHHWTPP...</td>\n",
       "      <td>protein</td>\n",
       "      <td>153.0</td>\n",
       "    </tr>\n",
       "    <tr>\n",
       "      <th>1</th>\n",
       "      <td></td>\n",
       "      <td>GPLGSMALRACGLIIFRRCLIPKVDNNAIEFLLLQASDGIHHWTPP...</td>\n",
       "      <td>protein</td>\n",
       "      <td>153.0</td>\n",
       "    </tr>\n",
       "    <tr>\n",
       "      <th>2</th>\n",
       "      <td></td>\n",
       "      <td>MLVVPAIDLFRGKVARMIKGRKENTIFYEKDPVELVEKLIEEGFTL...</td>\n",
       "      <td>protein</td>\n",
       "      <td>241.0</td>\n",
       "    </tr>\n",
       "    <tr>\n",
       "      <th>3</th>\n",
       "      <td></td>\n",
       "      <td>GPLGSMALRACGLIIFRRCLIPKVDNNAIEFLLLQASDGIHHWTPP...</td>\n",
       "      <td>protein</td>\n",
       "      <td>153.0</td>\n",
       "    </tr>\n",
       "    <tr>\n",
       "      <th>4</th>\n",
       "      <td></td>\n",
       "      <td>MSFRFGQCLIKPSVVFLKTELSFALVNRKPVVPGHVLVCPLRPVER...</td>\n",
       "      <td>protein</td>\n",
       "      <td>163.0</td>\n",
       "    </tr>\n",
       "    <tr>\n",
       "      <th>...</th>\n",
       "      <td>...</td>\n",
       "      <td>...</td>\n",
       "      <td>...</td>\n",
       "      <td>...</td>\n",
       "    </tr>\n",
       "    <tr>\n",
       "      <th>963714</th>\n",
       "      <td>zinc peptidase active subunit</td>\n",
       "      <td>ADPAASTFETTLPNGLKVVVREDHRAPTLVHMVWYRVGSMDETTGT...</td>\n",
       "      <td>protein</td>\n",
       "      <td>437.0</td>\n",
       "    </tr>\n",
       "    <tr>\n",
       "      <th>963715</th>\n",
       "      <td>zinc peptidase inactive subunit</td>\n",
       "      <td>AIKIEHWTAPSGAQVYYVENRTLPMLDVQVDFDAGSAREPADQVGV...</td>\n",
       "      <td>protein</td>\n",
       "      <td>424.0</td>\n",
       "    </tr>\n",
       "    <tr>\n",
       "      <th>963716</th>\n",
       "      <td>zinc peptidase inactive subunit</td>\n",
       "      <td>AIKIEHWTAPSGAQVYYVENRTLPMLDVQVDFDAGSAREPADQVGV...</td>\n",
       "      <td>protein</td>\n",
       "      <td>424.0</td>\n",
       "    </tr>\n",
       "    <tr>\n",
       "      <th>963717</th>\n",
       "      <td>zinc-dependent metalloproteinase</td>\n",
       "      <td>QQRFPQRYVMLAIVADHGMVTKYSGNSSAITTRVHQMVSHVTEMYS...</td>\n",
       "      <td>protein</td>\n",
       "      <td>202.0</td>\n",
       "    </tr>\n",
       "    <tr>\n",
       "      <th>963718</th>\n",
       "      <td>zinc-dependent metalloproteinase</td>\n",
       "      <td>QQRFPQRYVMLAIVADHGMVTKYSGNSSAITTRVHQMVSHVTEMYS...</td>\n",
       "      <td>protein</td>\n",
       "      <td>202.0</td>\n",
       "    </tr>\n",
       "  </tbody>\n",
       "</table>\n",
       "<p>963719 rows × 4 columns</p>\n",
       "</div>"
      ],
      "text/plain": [
       "                                    Name  \\\n",
       "0                                          \n",
       "1                                          \n",
       "2                                          \n",
       "3                                          \n",
       "4                                          \n",
       "...                                  ...   \n",
       "963714     zinc peptidase active subunit   \n",
       "963715   zinc peptidase inactive subunit   \n",
       "963716   zinc peptidase inactive subunit   \n",
       "963717  zinc-dependent metalloproteinase   \n",
       "963718  zinc-dependent metalloproteinase   \n",
       "\n",
       "                                                 Sequence  MolType  length  \n",
       "0       GPLGSMALRACGLIIFRRCLIPKVDNNAIEFLLLQASDGIHHWTPP...  protein   153.0  \n",
       "1       GPLGSMALRACGLIIFRRCLIPKVDNNAIEFLLLQASDGIHHWTPP...  protein   153.0  \n",
       "2       MLVVPAIDLFRGKVARMIKGRKENTIFYEKDPVELVEKLIEEGFTL...  protein   241.0  \n",
       "3       GPLGSMALRACGLIIFRRCLIPKVDNNAIEFLLLQASDGIHHWTPP...  protein   153.0  \n",
       "4       MSFRFGQCLIKPSVVFLKTELSFALVNRKPVVPGHVLVCPLRPVER...  protein   163.0  \n",
       "...                                                   ...      ...     ...  \n",
       "963714  ADPAASTFETTLPNGLKVVVREDHRAPTLVHMVWYRVGSMDETTGT...  protein   437.0  \n",
       "963715  AIKIEHWTAPSGAQVYYVENRTLPMLDVQVDFDAGSAREPADQVGV...  protein   424.0  \n",
       "963716  AIKIEHWTAPSGAQVYYVENRTLPMLDVQVDFDAGSAREPADQVGV...  protein   424.0  \n",
       "963717  QQRFPQRYVMLAIVADHGMVTKYSGNSSAITTRVHQMVSHVTEMYS...  protein   202.0  \n",
       "963718  QQRFPQRYVMLAIVADHGMVTKYSGNSSAITTRVHQMVSHVTEMYS...  protein   202.0  \n",
       "\n",
       "[963719 rows x 4 columns]"
      ]
     },
     "execution_count": 47,
     "metadata": {},
     "output_type": "execute_result"
    }
   ],
   "source": [
    "data = processing.parse_pdb.load_pdb(['protein'], data_loc='./data/pdb_seqres.txt').sort_values(by='Name')\n",
    "data = processing.parse_pdb.context_size_filter(data, context_length=1024, min_length=100, max_length=4000, window=True)\n",
    "data"
   ]
  },
  {
   "cell_type": "code",
   "execution_count": 48,
   "metadata": {},
   "outputs": [
    {
     "data": {
      "application/json": {
       "ascii": false,
       "bar_format": null,
       "colour": null,
       "elapsed": 0.0044841766357421875,
       "initial": 0,
       "n": 0,
       "ncols": null,
       "nrows": null,
       "postfix": null,
       "prefix": "config.json",
       "rate": null,
       "total": 725,
       "unit": "B",
       "unit_divisor": 1000,
       "unit_scale": true
      },
      "application/vnd.jupyter.widget-view+json": {
       "model_id": "18d06c4aee444df59ac9fad4756741df",
       "version_major": 2,
       "version_minor": 0
      },
      "text/plain": [
       "config.json:   0%|          | 0.00/725 [00:00<?, ?B/s]"
      ]
     },
     "metadata": {},
     "output_type": "display_data"
    },
    {
     "data": {
      "application/json": {
       "ascii": false,
       "bar_format": null,
       "colour": null,
       "elapsed": 0.00634002685546875,
       "initial": 0,
       "n": 0,
       "ncols": null,
       "nrows": null,
       "postfix": null,
       "prefix": "pytorch_model.bin.index.json",
       "rate": null,
       "total": 73709,
       "unit": "B",
       "unit_divisor": 1000,
       "unit_scale": true
      },
      "application/vnd.jupyter.widget-view+json": {
       "model_id": "2df382beab7c44b48a549e1d8cabe7fa",
       "version_major": 2,
       "version_minor": 0
      },
      "text/plain": [
       "pytorch_model.bin.index.json:   0%|          | 0.00/73.7k [00:00<?, ?B/s]"
      ]
     },
     "metadata": {},
     "output_type": "display_data"
    },
    {
     "data": {
      "application/json": {
       "ascii": false,
       "bar_format": null,
       "colour": null,
       "elapsed": 0.0053141117095947266,
       "initial": 0,
       "n": 0,
       "ncols": null,
       "nrows": null,
       "postfix": null,
       "prefix": "Downloading shards",
       "rate": null,
       "total": 7,
       "unit": "it",
       "unit_divisor": 1000,
       "unit_scale": false
      },
      "application/vnd.jupyter.widget-view+json": {
       "model_id": "8d2ef6aa38f8476d98f0c4804876001c",
       "version_major": 2,
       "version_minor": 0
      },
      "text/plain": [
       "Downloading shards:   0%|          | 0/7 [00:00<?, ?it/s]"
      ]
     },
     "metadata": {},
     "output_type": "display_data"
    },
    {
     "data": {
      "application/json": {
       "ascii": false,
       "bar_format": null,
       "colour": null,
       "elapsed": 0.0031769275665283203,
       "initial": 0,
       "n": 0,
       "ncols": null,
       "nrows": null,
       "postfix": null,
       "prefix": "pytorch_model-00001-of-00007.bin",
       "rate": null,
       "total": 9670709951,
       "unit": "B",
       "unit_divisor": 1000,
       "unit_scale": true
      },
      "application/vnd.jupyter.widget-view+json": {
       "model_id": "b23154aea182419095b1c847acceffd0",
       "version_major": 2,
       "version_minor": 0
      },
      "text/plain": [
       "pytorch_model-00001-of-00007.bin:   0%|          | 0.00/9.67G [00:00<?, ?B/s]"
      ]
     },
     "metadata": {},
     "output_type": "display_data"
    },
    {
     "data": {
      "application/json": {
       "ascii": false,
       "bar_format": null,
       "colour": null,
       "elapsed": 0.006498098373413086,
       "initial": 0,
       "n": 0,
       "ncols": null,
       "nrows": null,
       "postfix": null,
       "prefix": "pytorch_model-00002-of-00007.bin",
       "rate": null,
       "total": 9648992689,
       "unit": "B",
       "unit_divisor": 1000,
       "unit_scale": true
      },
      "application/vnd.jupyter.widget-view+json": {
       "model_id": "572b81965ebe4eb7b9517a135b7f3c3c",
       "version_major": 2,
       "version_minor": 0
      },
      "text/plain": [
       "pytorch_model-00002-of-00007.bin:   0%|          | 0.00/9.65G [00:00<?, ?B/s]"
      ]
     },
     "metadata": {},
     "output_type": "display_data"
    },
    {
     "data": {
      "application/json": {
       "ascii": false,
       "bar_format": null,
       "colour": null,
       "elapsed": 0.004590034484863281,
       "initial": 0,
       "n": 0,
       "ncols": null,
       "nrows": null,
       "postfix": null,
       "prefix": "pytorch_model-00003-of-00007.bin",
       "rate": null,
       "total": 9963585505,
       "unit": "B",
       "unit_divisor": 1000,
       "unit_scale": true
      },
      "application/vnd.jupyter.widget-view+json": {
       "model_id": "147c66bc42d84b8eba2aa2b08109656d",
       "version_major": 2,
       "version_minor": 0
      },
      "text/plain": [
       "pytorch_model-00003-of-00007.bin:   0%|          | 0.00/9.96G [00:00<?, ?B/s]"
      ]
     },
     "metadata": {},
     "output_type": "display_data"
    }
   ],
   "source": [
    "tokenizer = transformers.EsmTokenizer(vocab_file='./processing/basic_tokens.txt', return_tensors='pt')\n",
    "# 'facebook/esm2_t33_650M_UR50D'\n",
    "esm_model = transformers.EsmForMaskedLM.from_pretrained('facebook/esm2_t48_15B_UR50D')"
   ]
  },
  {
   "cell_type": "code",
   "execution_count": 49,
   "metadata": {},
   "outputs": [],
   "source": [
    "data_generator = processing.parse_pdb.masked_dataset_generator(data, tokenizer=tokenizer, mask_token_id=tokenizer.mask_token_id, mask_probability=0.05)"
   ]
  },
  {
   "cell_type": "code",
   "execution_count": 50,
   "metadata": {},
   "outputs": [
    {
     "name": "stderr",
     "output_type": "stream",
     "text": [
      "  0%|          | 1070/963719 [08:42<130:37:08,  2.05it/s]"
     ]
    },
    {
     "name": "stdout",
     "output_type": "stream",
     "text": [
      "Flushed and closed file!\n"
     ]
    },
    {
     "name": "stderr",
     "output_type": "stream",
     "text": [
      "\n"
     ]
    }
   ],
   "source": [
    "import os\n",
    "total_correct = 0\n",
    "num_masks = 0\n",
    "file_loc = './bigger_run.txt'\n",
    "\n",
    "with torch.no_grad():\n",
    "    caught_up = -1\n",
    "    if os.path.exists(file_loc):\n",
    "        with open('./current_run.txt', 'r') as file:\n",
    "            last_protein = len(file.readlines())\n",
    "        current_output = open(file_loc, 'a+')\n",
    "        caught_up = 0\n",
    "    else:\n",
    "        current_output = open(file_loc, 'a+')\n",
    "    \n",
    "    try:\n",
    "        for idx, (input_values, mask, true_values) in enumerate(tqdm(data_generator, total=len(data))):\n",
    "            if caught_up != -1 and caught_up < last_protein:\n",
    "                caught_up += 1\n",
    "                continue\n",
    "            model_output = esm_model(**input_values)\n",
    "            total_correct += torch.sum(model_output.logits.argmax(axis=-1)[0, mask] == true_values).item()\n",
    "            num_masks += torch.sum(mask).item()\n",
    "            current_output.write(f'{idx},{total_correct},{num_masks}\\n')\n",
    "    except KeyboardInterrupt:\n",
    "        current_output.flush()\n",
    "        current_output.close()\n",
    "        print(\"Flushed and closed file!\")"
   ]
  },
  {
   "cell_type": "code",
   "execution_count": null,
   "metadata": {},
   "outputs": [],
   "source": []
  }
 ],
 "metadata": {
  "kernelspec": {
   "display_name": "base",
   "language": "python",
   "name": "python3"
  },
  "language_info": {
   "codemirror_mode": {
    "name": "ipython",
    "version": 3
   },
   "file_extension": ".py",
   "mimetype": "text/x-python",
   "name": "python",
   "nbconvert_exporter": "python",
   "pygments_lexer": "ipython3",
   "version": "3.9.12"
  }
 },
 "nbformat": 4,
 "nbformat_minor": 2
}
