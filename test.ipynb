{
 "cells": [
  {
   "cell_type": "code",
   "execution_count": 1,
   "metadata": {},
   "outputs": [],
   "source": [
    "import torch\n",
    "import processing.tokenization\n",
    "import processing.parse_pdb\n",
    "import pandas as pd\n",
    "import matplotlib.pyplot as plt\n",
    "import transformers"
   ]
  },
  {
   "cell_type": "code",
   "execution_count": 2,
   "metadata": {},
   "outputs": [
    {
     "data": {
      "text/html": [
       "<div>\n",
       "<style scoped>\n",
       "    .dataframe tbody tr th:only-of-type {\n",
       "        vertical-align: middle;\n",
       "    }\n",
       "\n",
       "    .dataframe tbody tr th {\n",
       "        vertical-align: top;\n",
       "    }\n",
       "\n",
       "    .dataframe thead th {\n",
       "        text-align: right;\n",
       "    }\n",
       "</style>\n",
       "<table border=\"1\" class=\"dataframe\">\n",
       "  <thead>\n",
       "    <tr style=\"text-align: right;\">\n",
       "      <th></th>\n",
       "      <th>Name</th>\n",
       "      <th>Sequence</th>\n",
       "      <th>MolType</th>\n",
       "      <th>length</th>\n",
       "    </tr>\n",
       "  </thead>\n",
       "  <tbody>\n",
       "    <tr>\n",
       "      <th>0</th>\n",
       "      <td></td>\n",
       "      <td>GPLGSMALRACGLIIFRRCLIPKVDNNAIEFLLLQASDGIHHWTPP...</td>\n",
       "      <td>protein</td>\n",
       "      <td>153.0</td>\n",
       "    </tr>\n",
       "    <tr>\n",
       "      <th>1</th>\n",
       "      <td></td>\n",
       "      <td>GPLGSMALRACGLIIFRRCLIPKVDNNAIEFLLLQASDGIHHWTPP...</td>\n",
       "      <td>protein</td>\n",
       "      <td>153.0</td>\n",
       "    </tr>\n",
       "    <tr>\n",
       "      <th>2</th>\n",
       "      <td></td>\n",
       "      <td>MLVVPAIDLFRGKVARMIKGRKENTIFYEKDPVELVEKLIEEGFTL...</td>\n",
       "      <td>protein</td>\n",
       "      <td>241.0</td>\n",
       "    </tr>\n",
       "    <tr>\n",
       "      <th>3</th>\n",
       "      <td></td>\n",
       "      <td>GPLGSMALRACGLIIFRRCLIPKVDNNAIEFLLLQASDGIHHWTPP...</td>\n",
       "      <td>protein</td>\n",
       "      <td>153.0</td>\n",
       "    </tr>\n",
       "    <tr>\n",
       "      <th>4</th>\n",
       "      <td></td>\n",
       "      <td>MSFRFGQCLIKPSVVFLKTELSFALVNRKPVVPGHVLVCPLRPVER...</td>\n",
       "      <td>protein</td>\n",
       "      <td>163.0</td>\n",
       "    </tr>\n",
       "    <tr>\n",
       "      <th>...</th>\n",
       "      <td>...</td>\n",
       "      <td>...</td>\n",
       "      <td>...</td>\n",
       "      <td>...</td>\n",
       "    </tr>\n",
       "    <tr>\n",
       "      <th>963714</th>\n",
       "      <td>zinc peptidase active subunit</td>\n",
       "      <td>ADPAASTFETTLPNGLKVVVREDHRAPTLVHMVWYRVGSMDETTGT...</td>\n",
       "      <td>protein</td>\n",
       "      <td>437.0</td>\n",
       "    </tr>\n",
       "    <tr>\n",
       "      <th>963715</th>\n",
       "      <td>zinc peptidase inactive subunit</td>\n",
       "      <td>AIKIEHWTAPSGAQVYYVENRTLPMLDVQVDFDAGSAREPADQVGV...</td>\n",
       "      <td>protein</td>\n",
       "      <td>424.0</td>\n",
       "    </tr>\n",
       "    <tr>\n",
       "      <th>963716</th>\n",
       "      <td>zinc peptidase inactive subunit</td>\n",
       "      <td>AIKIEHWTAPSGAQVYYVENRTLPMLDVQVDFDAGSAREPADQVGV...</td>\n",
       "      <td>protein</td>\n",
       "      <td>424.0</td>\n",
       "    </tr>\n",
       "    <tr>\n",
       "      <th>963717</th>\n",
       "      <td>zinc-dependent metalloproteinase</td>\n",
       "      <td>QQRFPQRYVMLAIVADHGMVTKYSGNSSAITTRVHQMVSHVTEMYS...</td>\n",
       "      <td>protein</td>\n",
       "      <td>202.0</td>\n",
       "    </tr>\n",
       "    <tr>\n",
       "      <th>963718</th>\n",
       "      <td>zinc-dependent metalloproteinase</td>\n",
       "      <td>QQRFPQRYVMLAIVADHGMVTKYSGNSSAITTRVHQMVSHVTEMYS...</td>\n",
       "      <td>protein</td>\n",
       "      <td>202.0</td>\n",
       "    </tr>\n",
       "  </tbody>\n",
       "</table>\n",
       "<p>963719 rows × 4 columns</p>\n",
       "</div>"
      ],
      "text/plain": [
       "                                    Name  \\\n",
       "0                                          \n",
       "1                                          \n",
       "2                                          \n",
       "3                                          \n",
       "4                                          \n",
       "...                                  ...   \n",
       "963714     zinc peptidase active subunit   \n",
       "963715   zinc peptidase inactive subunit   \n",
       "963716   zinc peptidase inactive subunit   \n",
       "963717  zinc-dependent metalloproteinase   \n",
       "963718  zinc-dependent metalloproteinase   \n",
       "\n",
       "                                                 Sequence  MolType  length  \n",
       "0       GPLGSMALRACGLIIFRRCLIPKVDNNAIEFLLLQASDGIHHWTPP...  protein   153.0  \n",
       "1       GPLGSMALRACGLIIFRRCLIPKVDNNAIEFLLLQASDGIHHWTPP...  protein   153.0  \n",
       "2       MLVVPAIDLFRGKVARMIKGRKENTIFYEKDPVELVEKLIEEGFTL...  protein   241.0  \n",
       "3       GPLGSMALRACGLIIFRRCLIPKVDNNAIEFLLLQASDGIHHWTPP...  protein   153.0  \n",
       "4       MSFRFGQCLIKPSVVFLKTELSFALVNRKPVVPGHVLVCPLRPVER...  protein   163.0  \n",
       "...                                                   ...      ...     ...  \n",
       "963714  ADPAASTFETTLPNGLKVVVREDHRAPTLVHMVWYRVGSMDETTGT...  protein   437.0  \n",
       "963715  AIKIEHWTAPSGAQVYYVENRTLPMLDVQVDFDAGSAREPADQVGV...  protein   424.0  \n",
       "963716  AIKIEHWTAPSGAQVYYVENRTLPMLDVQVDFDAGSAREPADQVGV...  protein   424.0  \n",
       "963717  QQRFPQRYVMLAIVADHGMVTKYSGNSSAITTRVHQMVSHVTEMYS...  protein   202.0  \n",
       "963718  QQRFPQRYVMLAIVADHGMVTKYSGNSSAITTRVHQMVSHVTEMYS...  protein   202.0  \n",
       "\n",
       "[963719 rows x 4 columns]"
      ]
     },
     "execution_count": 2,
     "metadata": {},
     "output_type": "execute_result"
    }
   ],
   "source": [
    "data = processing.parse_pdb.load_pdb(['protein'], data_loc='./data/pdb_seqres.txt').sort_values(by='Name')\n",
    "data = processing.parse_pdb.context_size_filter(data, context_length=1024, min_length=100, max_length=4000, window=True)\n",
    "data"
   ]
  },
  {
   "cell_type": "code",
   "execution_count": 22,
   "metadata": {},
   "outputs": [],
   "source": [
    "tokenizer = transformers.EsmTokenizer(vocab_file='./processing/basic_tokens.txt', return_tensors='pt')\n",
    "esm_model = transformers.EsmForMaskedLM.from_pretrained('facebook/esm2_t33_650M_UR50D')"
   ]
  },
  {
   "cell_type": "code",
   "execution_count": 23,
   "metadata": {},
   "outputs": [],
   "source": [
    "data_generator = processing.parse_pdb.dataset_generator(data, tokenizer=tokenizer, mask_token_id=tokenizer.mask_token_id, mask_probability=0.05)"
   ]
  },
  {
   "cell_type": "code",
   "execution_count": 24,
   "metadata": {},
   "outputs": [],
   "source": [
    "with torch.no_grad():\n",
    "    input_values, mask, true_values = next(data_generator)\n",
    "    model_output = esm_model(**input_values)"
   ]
  },
  {
   "cell_type": "code",
   "execution_count": 25,
   "metadata": {},
   "outputs": [
    {
     "data": {
      "text/plain": [
       "torch.Size([155])"
      ]
     },
     "execution_count": 25,
     "metadata": {},
     "output_type": "execute_result"
    }
   ],
   "source": [
    "mask.shape"
   ]
  },
  {
   "cell_type": "code",
   "execution_count": 26,
   "metadata": {},
   "outputs": [
    {
     "data": {
      "text/plain": [
       "tensor(7)"
      ]
     },
     "execution_count": 26,
     "metadata": {},
     "output_type": "execute_result"
    }
   ],
   "source": [
    "torch.sum(mask)"
   ]
  },
  {
   "cell_type": "code",
   "execution_count": 27,
   "metadata": {},
   "outputs": [
    {
     "data": {
      "text/plain": [
       "tensor([ 5, 19,  4,  4,  5, 10,  9])"
      ]
     },
     "execution_count": 27,
     "metadata": {},
     "output_type": "execute_result"
    }
   ],
   "source": [
    "model_output.logits.argmax(axis=-1)[0, mask]"
   ]
  },
  {
   "cell_type": "code",
   "execution_count": 28,
   "metadata": {},
   "outputs": [
    {
     "data": {
      "text/plain": [
       "tensor([23, 18,  4,  4,  5, 10, 16])"
      ]
     },
     "execution_count": 28,
     "metadata": {},
     "output_type": "execute_result"
    }
   ],
   "source": [
    "true_values"
   ]
  },
  {
   "cell_type": "code",
   "execution_count": 29,
   "metadata": {},
   "outputs": [
    {
     "data": {
      "text/plain": [
       "tensor(0.5714)"
      ]
     },
     "execution_count": 29,
     "metadata": {},
     "output_type": "execute_result"
    }
   ],
   "source": [
    "torch.sum(model_output.logits.argmax(axis=-1)[0, mask] == true_values) / torch.sum(mask)"
   ]
  },
  {
   "cell_type": "code",
   "execution_count": 30,
   "metadata": {},
   "outputs": [
    {
     "data": {
      "text/plain": [
       "tensor([23, 18,  4,  4,  5, 10, 16])"
      ]
     },
     "execution_count": 30,
     "metadata": {},
     "output_type": "execute_result"
    }
   ],
   "source": [
    "true_values"
   ]
  },
  {
   "cell_type": "code",
   "execution_count": null,
   "metadata": {},
   "outputs": [],
   "source": []
  }
 ],
 "metadata": {
  "kernelspec": {
   "display_name": "base",
   "language": "python",
   "name": "python3"
  },
  "language_info": {
   "codemirror_mode": {
    "name": "ipython",
    "version": 3
   },
   "file_extension": ".py",
   "mimetype": "text/x-python",
   "name": "python",
   "nbconvert_exporter": "python",
   "pygments_lexer": "ipython3",
   "version": "3.9.12"
  }
 },
 "nbformat": 4,
 "nbformat_minor": 2
}
