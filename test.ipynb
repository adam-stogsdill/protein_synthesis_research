{
 "cells": [
  {
   "cell_type": "code",
   "execution_count": 8,
   "metadata": {},
   "outputs": [],
   "source": [
    "import torch\n",
    "import tokenization\n",
    "import parse_pdb\n",
    "import pandas as pd\n"
   ]
  },
  {
   "cell_type": "code",
   "execution_count": 12,
   "metadata": {},
   "outputs": [
    {
     "data": {
      "text/html": [
       "<div>\n",
       "<style scoped>\n",
       "    .dataframe tbody tr th:only-of-type {\n",
       "        vertical-align: middle;\n",
       "    }\n",
       "\n",
       "    .dataframe tbody tr th {\n",
       "        vertical-align: top;\n",
       "    }\n",
       "\n",
       "    .dataframe thead th {\n",
       "        text-align: right;\n",
       "    }\n",
       "</style>\n",
       "<table border=\"1\" class=\"dataframe\">\n",
       "  <thead>\n",
       "    <tr style=\"text-align: right;\">\n",
       "      <th></th>\n",
       "      <th>Name</th>\n",
       "      <th>Sequence</th>\n",
       "      <th>MolType</th>\n",
       "      <th>length</th>\n",
       "    </tr>\n",
       "  </thead>\n",
       "  <tbody>\n",
       "    <tr>\n",
       "      <th>60860</th>\n",
       "      <td></td>\n",
       "      <td>GPLGSMALRACGLIIFRRCLIPKVDNNAIEFLLLQASDGIHHWTPP...</td>\n",
       "      <td>protein</td>\n",
       "      <td>153.0</td>\n",
       "    </tr>\n",
       "    <tr>\n",
       "      <th>60861</th>\n",
       "      <td></td>\n",
       "      <td>GPLGSMALRACGLIIFRRCLIPKVDNNAIEFLLLQASDGIHHWTPP...</td>\n",
       "      <td>protein</td>\n",
       "      <td>153.0</td>\n",
       "    </tr>\n",
       "    <tr>\n",
       "      <th>41931</th>\n",
       "      <td></td>\n",
       "      <td>MLVVPAIDLFRGKVARMIKGRKENTIFYEKDPVELVEKLIEEGFTL...</td>\n",
       "      <td>protein</td>\n",
       "      <td>241.0</td>\n",
       "    </tr>\n",
       "    <tr>\n",
       "      <th>60862</th>\n",
       "      <td></td>\n",
       "      <td>GPLGSMALRACGLIIFRRCLIPKVDNNAIEFLLLQASDGIHHWTPP...</td>\n",
       "      <td>protein</td>\n",
       "      <td>153.0</td>\n",
       "    </tr>\n",
       "    <tr>\n",
       "      <th>649221</th>\n",
       "      <td></td>\n",
       "      <td>MSFRFGQCLIKPSVVFLKTELSFALVNRKPVVPGHVLVCPLRPVER...</td>\n",
       "      <td>protein</td>\n",
       "      <td>163.0</td>\n",
       "    </tr>\n",
       "    <tr>\n",
       "      <th>...</th>\n",
       "      <td>...</td>\n",
       "      <td>...</td>\n",
       "      <td>...</td>\n",
       "      <td>...</td>\n",
       "    </tr>\n",
       "    <tr>\n",
       "      <th>128089</th>\n",
       "      <td>zinc peptidase active subunit</td>\n",
       "      <td>ADPAASTFETTLPNGLKVVVREDHRAPTLVHMVWYRVGSMDETTGT...</td>\n",
       "      <td>protein</td>\n",
       "      <td>437.0</td>\n",
       "    </tr>\n",
       "    <tr>\n",
       "      <th>128087</th>\n",
       "      <td>zinc peptidase inactive subunit</td>\n",
       "      <td>AIKIEHWTAPSGAQVYYVENRTLPMLDVQVDFDAGSAREPADQVGV...</td>\n",
       "      <td>protein</td>\n",
       "      <td>424.0</td>\n",
       "    </tr>\n",
       "    <tr>\n",
       "      <th>128086</th>\n",
       "      <td>zinc peptidase inactive subunit</td>\n",
       "      <td>AIKIEHWTAPSGAQVYYVENRTLPMLDVQVDFDAGSAREPADQVGV...</td>\n",
       "      <td>protein</td>\n",
       "      <td>424.0</td>\n",
       "    </tr>\n",
       "    <tr>\n",
       "      <th>239740</th>\n",
       "      <td>zinc-dependent metalloproteinase</td>\n",
       "      <td>QQRFPQRYVMLAIVADHGMVTKYSGNSSAITTRVHQMVSHVTEMYS...</td>\n",
       "      <td>protein</td>\n",
       "      <td>202.0</td>\n",
       "    </tr>\n",
       "    <tr>\n",
       "      <th>239739</th>\n",
       "      <td>zinc-dependent metalloproteinase</td>\n",
       "      <td>QQRFPQRYVMLAIVADHGMVTKYSGNSSAITTRVHQMVSHVTEMYS...</td>\n",
       "      <td>protein</td>\n",
       "      <td>202.0</td>\n",
       "    </tr>\n",
       "  </tbody>\n",
       "</table>\n",
       "<p>876265 rows × 4 columns</p>\n",
       "</div>"
      ],
      "text/plain": [
       "                                    Name  \\\n",
       "60860                                      \n",
       "60861                                      \n",
       "41931                                      \n",
       "60862                                      \n",
       "649221                                     \n",
       "...                                  ...   \n",
       "128089     zinc peptidase active subunit   \n",
       "128087   zinc peptidase inactive subunit   \n",
       "128086   zinc peptidase inactive subunit   \n",
       "239740  zinc-dependent metalloproteinase   \n",
       "239739  zinc-dependent metalloproteinase   \n",
       "\n",
       "                                                 Sequence  MolType  length  \n",
       "60860   GPLGSMALRACGLIIFRRCLIPKVDNNAIEFLLLQASDGIHHWTPP...  protein   153.0  \n",
       "60861   GPLGSMALRACGLIIFRRCLIPKVDNNAIEFLLLQASDGIHHWTPP...  protein   153.0  \n",
       "41931   MLVVPAIDLFRGKVARMIKGRKENTIFYEKDPVELVEKLIEEGFTL...  protein   241.0  \n",
       "60862   GPLGSMALRACGLIIFRRCLIPKVDNNAIEFLLLQASDGIHHWTPP...  protein   153.0  \n",
       "649221  MSFRFGQCLIKPSVVFLKTELSFALVNRKPVVPGHVLVCPLRPVER...  protein   163.0  \n",
       "...                                                   ...      ...     ...  \n",
       "128089  ADPAASTFETTLPNGLKVVVREDHRAPTLVHMVWYRVGSMDETTGT...  protein   437.0  \n",
       "128087  AIKIEHWTAPSGAQVYYVENRTLPMLDVQVDFDAGSAREPADQVGV...  protein   424.0  \n",
       "128086  AIKIEHWTAPSGAQVYYVENRTLPMLDVQVDFDAGSAREPADQVGV...  protein   424.0  \n",
       "239740  QQRFPQRYVMLAIVADHGMVTKYSGNSSAITTRVHQMVSHVTEMYS...  protein   202.0  \n",
       "239739  QQRFPQRYVMLAIVADHGMVTKYSGNSSAITTRVHQMVSHVTEMYS...  protein   202.0  \n",
       "\n",
       "[876265 rows x 4 columns]"
      ]
     },
     "execution_count": 12,
     "metadata": {},
     "output_type": "execute_result"
    }
   ],
   "source": [
    "data = parse_pdb.load_pdb(['protein'], data_loc='./data/pdb_seqres.txt').sort_values(by='Name')\n",
    "data"
   ]
  },
  {
   "cell_type": "code",
   "execution_count": 6,
   "metadata": {},
   "outputs": [
    {
     "data": {
      "text/plain": [
       "(90313,)"
      ]
     },
     "execution_count": 6,
     "metadata": {},
     "output_type": "execute_result"
    }
   ],
   "source": [
    "data.Name.unique().shape"
   ]
  },
  {
   "cell_type": "code",
   "execution_count": null,
   "metadata": {},
   "outputs": [],
   "source": []
  }
 ],
 "metadata": {
  "kernelspec": {
   "display_name": "base",
   "language": "python",
   "name": "python3"
  },
  "language_info": {
   "codemirror_mode": {
    "name": "ipython",
    "version": 3
   },
   "file_extension": ".py",
   "mimetype": "text/x-python",
   "name": "python",
   "nbconvert_exporter": "python",
   "pygments_lexer": "ipython3",
   "version": "3.9.12"
  }
 },
 "nbformat": 4,
 "nbformat_minor": 2
}
